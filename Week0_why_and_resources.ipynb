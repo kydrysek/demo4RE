{
 "cells": [
  {
   "attachments": {},
   "cell_type": "markdown",
   "id": "70d933b3",
   "metadata": {},
   "source": [
    "# Week 0: The \"Why?\" and \"How?\" of Python, Pandas, NumPy ?\n",
    "\n",
    "This week is an informal kick-off for the mini-intro to Python, Pandas, NumPy and visualisations in Python. The notebook is mostly a collection of useful resources to get one started, with a very small motivating examples."
   ]
  },
  {
   "cell_type": "markdown",
   "id": "9e6f8d7d",
   "metadata": {},
   "source": [
    "## Python\n",
    "<!-- (![Python logo](https://www.python.org/static/community_logos/python-logo-master-v3-TM.png) This would work but it doesn't resize immage -->\n",
    "<img src=\"https://www.python.org/static/community_logos/python-logo-master-v3-TM.png\" alt=\"Python logo\" width=200 style=\"float: right;\"  />\n",
    "\n",
    "If you're reading this, you don't need convincing that Python is a useful langauge to know. It consistently places as one of the most popular programming languages, is relatively easy to learn at the basic level, has gained popularity in Data Science and Machine Learning communities. It is known to be used by a number or large organisations such as Google, CERN, Facebook, Amazon, Spotify, etc. Its large standard library of packages is recognised as one of Python's strenghts.\n",
    "\n",
    "Enough said, if you wand to learn more use google, or even have a look at [wikipedia entry for Python](https://en.wikipedia.org/wiki/Python_(programming_language)).\n",
    "\n",
    "### Tutorial\n",
    "Lots of good tutorials online, W3Schools one or docs.python.org offer two great choices\n",
    "- ***recommended*** https://www.w3schools.com/python/default.asp \n",
    "- ***recommended*** https://docs.python.org/3/tutorial/index.html\n",
    "\n",
    "\n",
    "- https://wiki.python.org/moin/BeginnersGuide/Programmers - has a list of tutorials to suit all styles of learning\n",
    "- or use Pluralsight - request company-founded account if you don't already have it\n",
    "\n",
    "### Working environment\n",
    "**Notebooks** are a great alternative to start with to using **.py** files, useful to know how to work with both.\n",
    "\n",
    "A few things to look into:\n",
    "- installing **Anaconda**\n",
    "- **Jupyter Notebooks** or **Jupyter Lab** as simple IDEs\n",
    "- **PyCharm** or **Visual Studio Code** as alternative IDEs\n",
    "- at home think about installing packages using **conda** and **pip**\n",
    "\n",
    "### Varia\n",
    "- start with datasets in files (CSV, JSON, etc), there's plenty of them on ***Kaggle***\n",
    "    - or google to find lots of sources of great datasets, e.g. start here https://collaborativedataplatform.com/blog/basics/top-25-public-datasets/\n",
    "    \n",
    "- if you feel you really must, you can see how one could run SQL  \n",
    "    - https://www.datacamp.com/tutorial/tutorial-how-to-execute-sql-queries-in-r-and-python "
   ]
  },
  {
   "cell_type": "code",
   "execution_count": 65,
   "id": "28ccd538",
   "metadata": {},
   "outputs": [
    {
     "name": "stdout",
     "output_type": "stream",
     "text": [
      "3.9.13\n"
     ]
    }
   ],
   "source": [
    "from platform import python_version\n",
    "\n",
    "print(python_version())"
   ]
  },
  {
   "cell_type": "code",
   "execution_count": 66,
   "id": "85c68754",
   "metadata": {},
   "outputs": [
    {
     "name": "stdout",
     "output_type": "stream",
     "text": [
      "A: C:\\Users\\Ola\\anaconda3\\python.exe\n",
      "B: 3.9.13 (main, Aug 25 2022, 23:51:50) [MSC v.1916 64 bit (AMD64)]\n",
      "C: sys.version_info(major=3, minor=9, micro=13, releaselevel='final', serial=0)\n"
     ]
    }
   ],
   "source": [
    "import sys\n",
    "print(\"A:\",sys.executable)\n",
    "print(\"B:\",sys.version)\n",
    "print(\"C:\",sys.version_info)"
   ]
  },
  {
   "cell_type": "code",
   "execution_count": 67,
   "id": "87feb9b0",
   "metadata": {},
   "outputs": [
    {
     "name": "stdout",
     "output_type": "stream",
     "text": [
      "Hello world!\n",
      "1  4  7  10  13  16  19  \n",
      "\n",
      "Just another example - let's revert string ('Python is fun' -> 'nuf si nohtyP')\n"
     ]
    }
   ],
   "source": [
    "print(\"Hello world!\")\n",
    "for i in range(1,20,3):\n",
    "    print(i,\" \",end=\"\")\n",
    "    \n",
    "my_string = \"Python is fun\"\n",
    "print(\"\\n\\nJust another example - let's revert string ('{}' -> '{}')\".format(my_string,my_string[::-1]))"
   ]
  },
  {
   "cell_type": "markdown",
   "id": "cbe28268",
   "metadata": {},
   "source": [
    "## Numpy\n",
    "- package for scientific computing \n",
    "- wide variety of mathematical operations on arrays\n",
    "- vectorisation - efficient calculations with arrays and matrices\n",
    "- wide range of mathmatical functions\n",
    "- basis for pandas, matplotlib, etc\n",
    "- optimised and pre-compiled C code\n",
    "\n",
    "### API reference\n",
    "- https://numpy.org/doc/stable/reference/index.html\n",
    "\n",
    "### Tutorials\n",
    "- https://numpy.org/doc/stable/user/absolute_beginners.html\n",
    "- https://www.w3schools.com/python/numpy/default.asp\n",
    "- lots others depending on your style; google is your friend\n",
    "\n",
    "### Exercises\n",
    "1. https://www.machinelearningplus.com/python/101-numpy-exercises-python/\n",
    "1. https://www.w3schools.com/python/numpy/exercise.asp\n",
    "1. https://www.w3resource.com/python-exercises/numpy/index.php"
   ]
  },
  {
   "cell_type": "markdown",
   "id": "fd374ce3",
   "metadata": {},
   "source": [
    "Many different ways to multiply two vectors. The examples are a bit too artificial to show meaningful timings, but it's fun to see the below anyway.\n",
    "\n",
    "Some nice illustration of timing comparisons https://medium.com/pythoneers/vectorization-in-python-an-alternative-to-python-loops-2728d6d7cd3e and https://www.programiz.com/python-programming/numpy/vectorization"
   ]
  },
  {
   "cell_type": "code",
   "execution_count": 68,
   "id": "ab02b21c-ff1b-4769-b03b-2f51ea307a95",
   "metadata": {
    "tags": []
   },
   "outputs": [],
   "source": [
    "import numpy as np\n",
    "\n",
    "size=60000\n",
    "a = b = [10 for _ in range(0,size)]"
   ]
  },
  {
   "cell_type": "code",
   "execution_count": 69,
   "id": "fb4418c9-af7b-49fa-b9d1-9b7ec730fef8",
   "metadata": {
    "tags": []
   },
   "outputs": [
    {
     "name": "stdout",
     "output_type": "stream",
     "text": [
      "33.1 ms ± 7.74 ms per loop (mean ± std. dev. of 7 runs, 10 loops each)\n"
     ]
    }
   ],
   "source": [
    "%%timeit\n",
    "\n",
    "c = []\n",
    "for i in range(len(a)):\n",
    "    c.append(a[\n",
    "        i]*b[i])\n",
    "\n",
    "sum(c)\n",
    "#assert sum(c) == 6000000"
   ]
  },
  {
   "cell_type": "code",
   "execution_count": 70,
   "id": "ae03e40f-9f3f-444e-90d5-7936253a0418",
   "metadata": {
    "tags": []
   },
   "outputs": [
    {
     "name": "stdout",
     "output_type": "stream",
     "text": [
      "27.3 ms ± 3.87 ms per loop (mean ± std. dev. of 7 runs, 10 loops each)\n"
     ]
    }
   ],
   "source": [
    "%%timeit\n",
    "\n",
    "d = np.array(a)*np.array(b)\n",
    "d.sum()\n",
    "#assert d.sum() == 6000000"
   ]
  },
  {
   "cell_type": "code",
   "execution_count": 71,
   "id": "37448d26",
   "metadata": {},
   "outputs": [
    {
     "name": "stdout",
     "output_type": "stream",
     "text": [
      "24.3 ms ± 5.69 ms per loop (mean ± std. dev. of 7 runs, 10 loops each)\n"
     ]
    }
   ],
   "source": [
    "%%timeit\n",
    "\n",
    "an=np.array(a)\n",
    "bn=np.array(b) \n",
    "an.dot(bn)\n",
    "#assert an.dot(bn) == 6000000"
   ]
  },
  {
   "cell_type": "code",
   "execution_count": 72,
   "id": "9cfa0d34-9cac-408d-b22f-4920bf7eda5f",
   "metadata": {
    "tags": []
   },
   "outputs": [
    {
     "name": "stdout",
     "output_type": "stream",
     "text": [
      "10.6 ms ± 2.83 ms per loop (mean ± std. dev. of 7 runs, 100 loops each)\n"
     ]
    }
   ],
   "source": [
    "%%timeit\n",
    "\n",
    "# all list comprehensions below work, some will be more efficient than others \n",
    "#f = [a[i]*b[i] for i,_ in enumerate(a)]\n",
    "#f = [a[i]*b[i] for i in range(1,size)]\n",
    "f = [x*y for x,y in zip(a,b)]\n",
    "sum(f)\n",
    "#assert sum(f) == 6000000"
   ]
  },
  {
   "cell_type": "code",
   "execution_count": 73,
   "id": "3736c04e",
   "metadata": {},
   "outputs": [
    {
     "data": {
      "text/plain": [
       "6000000"
      ]
     },
     "execution_count": 73,
     "metadata": {},
     "output_type": "execute_result"
    }
   ],
   "source": [
    "np.array(a).dot(np.array(b))"
   ]
  },
  {
   "cell_type": "markdown",
   "id": "2bdd283f-63ff-4598-af8a-56beb806e319",
   "metadata": {},
   "source": [
    "## Pandas\n",
    "- Open source data analysis and manipulation tool\n",
    "- Built on top of the Python programming language\n",
    "- Organised around 2 key data structures - _Data Frames_ and _Series_ \n",
    "- Data can be imported from various file formats e.g.comma-separated values, JSON, Parquet, SQL database tables or queries, Microsoft Excel, and more\n",
    "- Some of data operations often done with Pandas\n",
    "    - Data cleansing\n",
    "    - Merges and joins, grouping\n",
    "    - Data inspection\n",
    "    - Dealing with missing data\n",
    "    - Data visualization\n",
    "    - Loading and saving data\n",
    "    - Data normalization\n",
    "    - Statistical analysis\n",
    "- robost I/O tools, time series-specific functionality, split-apply-combine operations, and so on\n",
    "\n",
    "### API\n",
    "https://pandas.pydata.org/pandas-docs/stable/reference/index.html\n",
    "\n",
    "### Tutorials\n",
    "- 10 minutes to Pandas: https://pandas.pydata.org/docs/user_guide/10min.html\n",
    "- W3Schools: https://www.w3schools.com/python/pandas/default.asp\n",
    "\n",
    "\n",
    "### Exercises\n",
    "1. https://www.machinelearningplus.com/python/101-pandas-exercises-python/\n",
    "20. https://www.w3schools.com/python/pandas/exercise.asp\n",
    "41. https://github.com/guipsamora/pandas_exercises/tree/master\n"
   ]
  },
  {
   "cell_type": "markdown",
   "id": "5973b5a8",
   "metadata": {},
   "source": [
    "## Bonus- some others\n",
    "\n",
    "### Visualisations\n",
    "- Mathplotlib, Seaborn\n",
    "- Plotly, Bokeh, Dash - interactive visualisations\n",
    "- geopandas, geoplot - geospatial visualiations\n",
    "- usual diagrams; wordclouds\n",
    "\n",
    "\n",
    "https://towardsdatascience.com/introduction-to-data-visualization-in-python-89a54c97fbed\n",
    "https://www.datacamp.com/tutorial/wordcloud-python\n",
    "https://towardsdatascience.com/visualizing-geospatial-data-in-python-e070374fe621\n",
    "\n",
    "### Interesting ML/AI packages\n",
    "- Scikit-Learn\n",
    "- SciPy\n",
    "- PyTorch\n",
    "- Hugging Face\n",
    "- TensorFlow\n",
    "- Keras\n",
    "- NLTK\n",
    "\n",
    "### Markdown for notebooks\n",
    "\n",
    "1. https://www.kaggle.com/code/cuecacuela/the-ultimate-markdown-cheat-sheet\n",
    "1. https://www.ibm.com/docs/en/watson-studio-local/1.2.3?topic=notebooks-markdown-jupyter-cheatsheet\n",
    "\n",
    "\n",
    "### Others\n",
    "- type checking, e.g. mypy\n",
    "- PIL"
   ]
  },
  {
   "cell_type": "markdown",
   "id": "6177663e-7f26-43a6-af44-b05d69dfa416",
   "metadata": {
    "tags": []
   },
   "source": [
    "\n",
    "<div class=\"alert alert-block alert-info\">\n",
    "<b>A quick example of markdown fun</b> https://www.kaggle.com/code/cuecacuela/the-ultimate-markdown-cheat-sheet</div>\n",
    "\n",
    "<div class=\"alert alert-block alert-success\">\n",
    "<b>Success:</b> This alert box indicates a successful or positive action.\n",
    "</div>\n",
    "\n",
    "<div class=\"alert alert-block alert-danger\">\n",
    "<b>Danger:</b> This alert box indicates a dangerous or potentially negative action.\n",
    "</div>"
   ]
  },
  {
   "cell_type": "raw",
   "id": "3ce9a8e4-acdd-4c27-8306-5212d6cfb6a7",
   "metadata": {},
   "source": [
    "Some examples to check your install work"
   ]
  },
  {
   "cell_type": "code",
   "execution_count": 74,
   "id": "17483c92-2155-4047-aac2-c01e2beb8c73",
   "metadata": {
    "tags": []
   },
   "outputs": [
    {
     "name": "stdout",
     "output_type": "stream",
     "text": [
      "Repeat [1 1 1 2 2 2 3 3 3]\n",
      "Tile [1 2 3 1 2 3 1 2 3]\n"
     ]
    },
    {
     "data": {
      "text/plain": [
       "array([1, 1, 1, 2, 2, 2, 3, 3, 3, 1, 2, 3, 1, 2, 3, 1, 2, 3])"
      ]
     },
     "execution_count": 74,
     "metadata": {},
     "output_type": "execute_result"
    }
   ],
   "source": [
    "import numpy as np\n",
    "a = np.array([1,2,3])\n",
    "print(\"Repeat {}\".format(np.repeat(a,3)))\n",
    "print(\"Tile {}\".format(np.tile(a,3)))\n",
    "np.concatenate([np.repeat(a,3),np.tile(a,3)])"
   ]
  },
  {
   "cell_type": "code",
   "execution_count": 75,
   "id": "98c817f3-4a98-455a-a6d9-42eb78957489",
   "metadata": {
    "tags": []
   },
   "outputs": [
    {
     "data": {
      "text/html": [
       "<div>\n",
       "<style scoped>\n",
       "    .dataframe tbody tr th:only-of-type {\n",
       "        vertical-align: middle;\n",
       "    }\n",
       "\n",
       "    .dataframe tbody tr th {\n",
       "        vertical-align: top;\n",
       "    }\n",
       "\n",
       "    .dataframe thead th {\n",
       "        text-align: right;\n",
       "    }\n",
       "</style>\n",
       "<table border=\"1\" class=\"dataframe\">\n",
       "  <thead>\n",
       "    <tr style=\"text-align: right;\">\n",
       "      <th></th>\n",
       "      <th>order_id</th>\n",
       "      <th>quantity</th>\n",
       "      <th>item_name</th>\n",
       "      <th>choice_description</th>\n",
       "      <th>item_price</th>\n",
       "    </tr>\n",
       "  </thead>\n",
       "  <tbody>\n",
       "    <tr>\n",
       "      <th>0</th>\n",
       "      <td>1</td>\n",
       "      <td>1</td>\n",
       "      <td>Chips and Fresh Tomato Salsa</td>\n",
       "      <td>NaN</td>\n",
       "      <td>$2.39</td>\n",
       "    </tr>\n",
       "    <tr>\n",
       "      <th>1</th>\n",
       "      <td>1</td>\n",
       "      <td>1</td>\n",
       "      <td>Izze</td>\n",
       "      <td>[Clementine]</td>\n",
       "      <td>$3.39</td>\n",
       "    </tr>\n",
       "    <tr>\n",
       "      <th>2</th>\n",
       "      <td>1</td>\n",
       "      <td>1</td>\n",
       "      <td>Nantucket Nectar</td>\n",
       "      <td>[Apple]</td>\n",
       "      <td>$3.39</td>\n",
       "    </tr>\n",
       "    <tr>\n",
       "      <th>3</th>\n",
       "      <td>1</td>\n",
       "      <td>1</td>\n",
       "      <td>Chips and Tomatillo-Green Chili Salsa</td>\n",
       "      <td>NaN</td>\n",
       "      <td>$2.39</td>\n",
       "    </tr>\n",
       "    <tr>\n",
       "      <th>4</th>\n",
       "      <td>2</td>\n",
       "      <td>2</td>\n",
       "      <td>Chicken Bowl</td>\n",
       "      <td>[Tomatillo-Red Chili Salsa (Hot), [Black Beans...</td>\n",
       "      <td>$16.98</td>\n",
       "    </tr>\n",
       "    <tr>\n",
       "      <th>...</th>\n",
       "      <td>...</td>\n",
       "      <td>...</td>\n",
       "      <td>...</td>\n",
       "      <td>...</td>\n",
       "      <td>...</td>\n",
       "    </tr>\n",
       "    <tr>\n",
       "      <th>4617</th>\n",
       "      <td>1833</td>\n",
       "      <td>1</td>\n",
       "      <td>Steak Burrito</td>\n",
       "      <td>[Fresh Tomato Salsa, [Rice, Black Beans, Sour ...</td>\n",
       "      <td>$11.75</td>\n",
       "    </tr>\n",
       "    <tr>\n",
       "      <th>4618</th>\n",
       "      <td>1833</td>\n",
       "      <td>1</td>\n",
       "      <td>Steak Burrito</td>\n",
       "      <td>[Fresh Tomato Salsa, [Rice, Sour Cream, Cheese...</td>\n",
       "      <td>$11.75</td>\n",
       "    </tr>\n",
       "    <tr>\n",
       "      <th>4619</th>\n",
       "      <td>1834</td>\n",
       "      <td>1</td>\n",
       "      <td>Chicken Salad Bowl</td>\n",
       "      <td>[Fresh Tomato Salsa, [Fajita Vegetables, Pinto...</td>\n",
       "      <td>$11.25</td>\n",
       "    </tr>\n",
       "    <tr>\n",
       "      <th>4620</th>\n",
       "      <td>1834</td>\n",
       "      <td>1</td>\n",
       "      <td>Chicken Salad Bowl</td>\n",
       "      <td>[Fresh Tomato Salsa, [Fajita Vegetables, Lettu...</td>\n",
       "      <td>$8.75</td>\n",
       "    </tr>\n",
       "    <tr>\n",
       "      <th>4621</th>\n",
       "      <td>1834</td>\n",
       "      <td>1</td>\n",
       "      <td>Chicken Salad Bowl</td>\n",
       "      <td>[Fresh Tomato Salsa, [Fajita Vegetables, Pinto...</td>\n",
       "      <td>$8.75</td>\n",
       "    </tr>\n",
       "  </tbody>\n",
       "</table>\n",
       "<p>4622 rows × 5 columns</p>\n",
       "</div>"
      ],
      "text/plain": [
       "      order_id  quantity                              item_name  \\\n",
       "0            1         1           Chips and Fresh Tomato Salsa   \n",
       "1            1         1                                   Izze   \n",
       "2            1         1                       Nantucket Nectar   \n",
       "3            1         1  Chips and Tomatillo-Green Chili Salsa   \n",
       "4            2         2                           Chicken Bowl   \n",
       "...        ...       ...                                    ...   \n",
       "4617      1833         1                          Steak Burrito   \n",
       "4618      1833         1                          Steak Burrito   \n",
       "4619      1834         1                     Chicken Salad Bowl   \n",
       "4620      1834         1                     Chicken Salad Bowl   \n",
       "4621      1834         1                     Chicken Salad Bowl   \n",
       "\n",
       "                                     choice_description item_price  \n",
       "0                                                   NaN     $2.39   \n",
       "1                                          [Clementine]     $3.39   \n",
       "2                                               [Apple]     $3.39   \n",
       "3                                                   NaN     $2.39   \n",
       "4     [Tomatillo-Red Chili Salsa (Hot), [Black Beans...    $16.98   \n",
       "...                                                 ...        ...  \n",
       "4617  [Fresh Tomato Salsa, [Rice, Black Beans, Sour ...    $11.75   \n",
       "4618  [Fresh Tomato Salsa, [Rice, Sour Cream, Cheese...    $11.75   \n",
       "4619  [Fresh Tomato Salsa, [Fajita Vegetables, Pinto...    $11.25   \n",
       "4620  [Fresh Tomato Salsa, [Fajita Vegetables, Lettu...     $8.75   \n",
       "4621  [Fresh Tomato Salsa, [Fajita Vegetables, Pinto...     $8.75   \n",
       "\n",
       "[4622 rows x 5 columns]"
      ]
     },
     "execution_count": 75,
     "metadata": {},
     "output_type": "execute_result"
    }
   ],
   "source": [
    "# This will not work from work. You could download that tsv file locally though and just refer to its path \n",
    "import pandas as pd\n",
    "\n",
    "chipo_df=pd.read_csv(r\"https://raw.githubusercontent.com/justmarkham/DAT8/master/data/chipotle.tsv\",sep=\"\\t\")\n",
    "chipo_df"
   ]
  }
 ],
 "metadata": {
  "kernelspec": {
   "display_name": "Python 3 (ipykernel)",
   "language": "python",
   "name": "python3"
  },
  "language_info": {
   "codemirror_mode": {
    "name": "ipython",
    "version": 3
   },
   "file_extension": ".py",
   "mimetype": "text/x-python",
   "name": "python",
   "nbconvert_exporter": "python",
   "pygments_lexer": "ipython3",
   "version": "3.9.13"
  }
 },
 "nbformat": 4,
 "nbformat_minor": 5
}
