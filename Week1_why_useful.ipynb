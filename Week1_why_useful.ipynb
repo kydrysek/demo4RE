{
 "cells": [
  {
   "cell_type": "markdown",
   "id": "2bdd283f-63ff-4598-af8a-56beb806e319",
   "metadata": {},
   "source": [
    "# Week 1: Why python, pandas, numpy (and others) ?\n",
    "\n",
    "**Python**\n",
    "- popular, easy(ish) to learn though gradual learning curve\n",
    "- widely used in Data Science, Machine Learning, etc\n",
    "- popularity leading to lots of efficient packages \n",
    "\n",
    "\n",
    "**Numpy**\n",
    "- package for scientific computing \n",
    "- wide variety of mathematical operations on arrays\n",
    "- vectorisation - efficient calculations with arrays and matrices\n",
    "- wide range of mathmatical functions\n",
    "- basis for pandas, matplotlib, etc\n",
    "- optimised and pre-compiled C code\n",
    "\n",
    "**Pandas**\n",
    "- Python library used for working with data sets\n",
    "- widely used for data wrangling, used with many other data science modules in Python. And big data.\n",
    "\n",
    "...\n",
    "- Data cleansing\n",
    "- Data fill\n",
    "- Data normalization\n",
    "- Merges and joins, grouping\n",
    "- Data visualization\n",
    "- Statistical analysis\n",
    "- Data inspection\n",
    "- Loading and saving data\n",
    "\n",
    "...\n",
    "- Easy handling of missing data (represented as NaN) in both floating point and non-floating point data\n",
    "- Size mutability: columns can be inserted and deleted from DataFrames and higher-dimensional objects\n",
    "- Automatic and explicit data alignment: objects can be explicitly aligned to a set of labels, or the user can simply ignore the labels and let series, DataFrame, etc. automatically align the data in computations\n",
    "- Powerful, flexible group-by functionality to perform split-apply-combine operations on data sets for both aggregating and transforming data\n",
    "- Making it easy to convert ragged, differently indexed data in other Python and Numpy data structures into DataFrame objects\n",
    "- Intelligent label-based slicing, fancy indexing, and subsetting of large data sets\n",
    "- Intuitive merging and joining of data sets\n",
    "- Flexible reshaping and pivoting of data sets\n",
    "- Hierarchical labeling of axes (possible to have multiple labels per tick)\n",
    "- Robust I/O tools for loading data from flat files (CSV and delimited), Excel files, databases, and saving/loading data from the ultrafast HDF5 format\n",
    "- Time series-specific functionality: date range generation and frequency conversion, moving window statistics, date shifting, and lagging\n",
    "\n",
    "\n",
    "**Visualisations**\n",
    "- Mathplotlib, Seaborn\n",
    "- Plotly, Bokeh, Dash - interactive visualisations\n",
    "- geopandas, geoplot - geospatial visualiations\n",
    "- usual diagrams; wordclouds\n",
    "\n",
    "\n",
    "https://towardsdatascience.com/introduction-to-data-visualization-in-python-89a54c97fbed\n",
    "https://www.datacamp.com/tutorial/wordcloud-python\n",
    "https://towardsdatascience.com/visualizing-geospatial-data-in-python-e070374fe621\n",
    "\n",
    "**And so on**\n",
    "- Scikit-Learn\n",
    "- SciPy\n",
    "- PyTorch\n",
    "- Hugging Face\n",
    "- TensorFlow\n",
    "- Keras\n",
    "- NLTK\n",
    "\n",
    "\n",
    "## TODO\n",
    "- diplay image with PIL; change its colours\n",
    "- plot something simple, boxplot, violin plot, joint plot with regression\n",
    "- static type checker"
   ]
  },
  {
   "cell_type": "code",
   "execution_count": null,
   "id": "878d6cd4-5ac4-4a03-ba87-380a042170be",
   "metadata": {},
   "outputs": [],
   "source": [
    "# vectorisation examples - timeit"
   ]
  },
  {
   "cell_type": "code",
   "execution_count": 25,
   "id": "ab02b21c-ff1b-4769-b03b-2f51ea307a95",
   "metadata": {
    "tags": []
   },
   "outputs": [],
   "source": [
    "import numpy as np\n",
    "\n",
    "a = b = range(1,6000)\n",
    "\n"
   ]
  },
  {
   "cell_type": "code",
   "execution_count": 6,
   "id": "fb4418c9-af7b-49fa-b9d1-9b7ec730fef8",
   "metadata": {
    "tags": []
   },
   "outputs": [
    {
     "name": "stdout",
     "output_type": "stream",
     "text": [
      "1.91 ms ± 117 µs per loop (mean ± std. dev. of 7 runs, 1,000 loops each)\n"
     ]
    }
   ],
   "source": [
    "%%timeit\n",
    "\n",
    "c = []\n",
    "for i in range(len(a)):\n",
    "    c.append(a[\n",
    "        i]*b[i])\n",
    "c"
   ]
  },
  {
   "cell_type": "code",
   "execution_count": 9,
   "id": "ae03e40f-9f3f-444e-90d5-7936253a0418",
   "metadata": {
    "tags": []
   },
   "outputs": [
    {
     "name": "stdout",
     "output_type": "stream",
     "text": [
      "738 µs ± 15.5 µs per loop (mean ± std. dev. of 7 runs, 1,000 loops each)\n"
     ]
    }
   ],
   "source": [
    "%%timeit\n",
    "\n",
    "d = np.array(a)*np.array(b)\n",
    "d"
   ]
  },
  {
   "cell_type": "code",
   "execution_count": 14,
   "id": "9cfa0d34-9cac-408d-b22f-4920bf7eda5f",
   "metadata": {
    "tags": []
   },
   "outputs": [
    {
     "name": "stdout",
     "output_type": "stream",
     "text": [
      "374 µs ± 9.9 µs per loop (mean ± std. dev. of 7 runs, 1,000 loops each)\n"
     ]
    }
   ],
   "source": [
    "%%timeit\n",
    "\n",
    "np.array(a)*2"
   ]
  },
  {
   "cell_type": "markdown",
   "id": "d9436d6d-83aa-456e-ac90-16ff4fa0b3db",
   "metadata": {
    "tags": []
   },
   "source": [
    "Some nice timing comparisons\n",
    "https://medium.com/pythoneers/vectorization-in-python-an-alternative-to-python-loops-2728d6d7cd3e\n",
    "\n",
    "https://www.programiz.com/python-programming/numpy/vectorization#:~:text=Let%27s%20take%20a%20simple%20example,each%20element%20of%20the%20array.&text=Here%2C%20the%20number%2010%20adds,is%20possible%20because%20of%20vectorization."
   ]
  },
  {
   "cell_type": "markdown",
   "id": "8174cb31-0712-4990-9611-fa7b23746a09",
   "metadata": {
    "jp-MarkdownHeadingCollapsed": true,
    "tags": []
   },
   "source": [
    "# Exercises\n",
    "\n",
    "### Numpy\n",
    "https://www.machinelearningplus.com/python/101-numpy-exercises-python/\n",
    "\n",
    "https://www.w3schools.com/python/numpy/exercise.asp\n",
    "\n",
    "### Pandas\n",
    "https://www.machinelearningplus.com/python/101-pandas-exercises-python/\n",
    "\n",
    "https://www.w3schools.com/python/pandas/exercise.asp\n",
    "\n",
    "https://github.com/guipsamora/pandas_exercises/tree/master\n",
    "\n",
    "\n",
    "### Some of answers\n",
    "https://www.kaggle.com/code/icarofreire/pandas-24-useful-exercises-with-solutions"
   ]
  },
  {
   "cell_type": "raw",
   "id": "3ce9a8e4-acdd-4c27-8306-5212d6cfb6a7",
   "metadata": {},
   "source": [
    "Input:\n",
    "a = np.array([1,2,3])`\n",
    "Desired Output:\n",
    "#> array([1, 1, 1, 2, 2, 2, 3, 3, 3, 1, 2, 3, 1, 2, 3, 1, 2, 3])"
   ]
  },
  {
   "cell_type": "code",
   "execution_count": 19,
   "id": "17483c92-2155-4047-aac2-c01e2beb8c73",
   "metadata": {
    "tags": []
   },
   "outputs": [
    {
     "name": "stdout",
     "output_type": "stream",
     "text": [
      "Repeat [1 1 1 2 2 2 3 3 3]\n",
      "Tile [1 2 3 1 2 3 1 2 3]\n"
     ]
    },
    {
     "data": {
      "text/plain": [
       "array([1, 1, 1, 2, 2, 2, 3, 3, 3, 1, 2, 3, 1, 2, 3, 1, 2, 3])"
      ]
     },
     "execution_count": 19,
     "metadata": {},
     "output_type": "execute_result"
    }
   ],
   "source": [
    "import numpy as np\n",
    "a = np.array([1,2,3])\n",
    "print(\"Repeat {}\".format(np.repeat(a,3)))\n",
    "print(\"Tile {}\".format(np.tile(a,3)))\n",
    "np.concatenate([np.repeat(a,3),np.tile(a,3)])"
   ]
  },
  {
   "cell_type": "markdown",
   "id": "6177663e-7f26-43a6-af44-b05d69dfa416",
   "metadata": {
    "tags": []
   },
   "source": [
    "# Tutorials and docs\n",
    "\n",
    "Lots of resources depending on your learning style. Some examples\n",
    "\n",
    "## package documentation\n",
    "https://numpy.org/doc/stable/user/index.html\n",
    "\n",
    "https://pandas.pydata.org/pandas-docs/stable/reference/index.html\n",
    "\n",
    "# w3schools\n",
    "https://www.w3schools.com/python/numpy/default.asp\n",
    "\n",
    "https://www.w3schools.com/python/pandas/default.asp\n",
    "\n",
    "## python\n",
    "- https://docs.python.org/3/tutorial/index.html\n",
    "- or pluralsight\n",
    "- https://realpython.com/\n",
    "\n",
    "\n",
    "## markdown\n",
    "1. https://www.ibm.com/docs/en/watson-studio-local/1.2.3?topic=notebooks-markdown-jupyter-cheatsheet\n",
    "1. <div class=\"alert alert-block alert-info\">\n",
    "<b>Just for fun</b> https://www.kaggle.com/code/cuecacuela/the-ultimate-markdown-cheat-sheet</div>"
   ]
  },
  {
   "cell_type": "code",
   "execution_count": 21,
   "id": "98c817f3-4a98-455a-a6d9-42eb78957489",
   "metadata": {
    "tags": []
   },
   "outputs": [
    {
     "data": {
      "text/html": [
       "<div>\n",
       "<style scoped>\n",
       "    .dataframe tbody tr th:only-of-type {\n",
       "        vertical-align: middle;\n",
       "    }\n",
       "\n",
       "    .dataframe tbody tr th {\n",
       "        vertical-align: top;\n",
       "    }\n",
       "\n",
       "    .dataframe thead th {\n",
       "        text-align: right;\n",
       "    }\n",
       "</style>\n",
       "<table border=\"1\" class=\"dataframe\">\n",
       "  <thead>\n",
       "    <tr style=\"text-align: right;\">\n",
       "      <th></th>\n",
       "      <th>order_id</th>\n",
       "      <th>quantity</th>\n",
       "      <th>item_name</th>\n",
       "      <th>choice_description</th>\n",
       "      <th>item_price</th>\n",
       "    </tr>\n",
       "  </thead>\n",
       "  <tbody>\n",
       "    <tr>\n",
       "      <th>0</th>\n",
       "      <td>1</td>\n",
       "      <td>1</td>\n",
       "      <td>Chips and Fresh Tomato Salsa</td>\n",
       "      <td>NaN</td>\n",
       "      <td>$2.39</td>\n",
       "    </tr>\n",
       "    <tr>\n",
       "      <th>1</th>\n",
       "      <td>1</td>\n",
       "      <td>1</td>\n",
       "      <td>Izze</td>\n",
       "      <td>[Clementine]</td>\n",
       "      <td>$3.39</td>\n",
       "    </tr>\n",
       "    <tr>\n",
       "      <th>2</th>\n",
       "      <td>1</td>\n",
       "      <td>1</td>\n",
       "      <td>Nantucket Nectar</td>\n",
       "      <td>[Apple]</td>\n",
       "      <td>$3.39</td>\n",
       "    </tr>\n",
       "    <tr>\n",
       "      <th>3</th>\n",
       "      <td>1</td>\n",
       "      <td>1</td>\n",
       "      <td>Chips and Tomatillo-Green Chili Salsa</td>\n",
       "      <td>NaN</td>\n",
       "      <td>$2.39</td>\n",
       "    </tr>\n",
       "    <tr>\n",
       "      <th>4</th>\n",
       "      <td>2</td>\n",
       "      <td>2</td>\n",
       "      <td>Chicken Bowl</td>\n",
       "      <td>[Tomatillo-Red Chili Salsa (Hot), [Black Beans...</td>\n",
       "      <td>$16.98</td>\n",
       "    </tr>\n",
       "    <tr>\n",
       "      <th>...</th>\n",
       "      <td>...</td>\n",
       "      <td>...</td>\n",
       "      <td>...</td>\n",
       "      <td>...</td>\n",
       "      <td>...</td>\n",
       "    </tr>\n",
       "    <tr>\n",
       "      <th>4617</th>\n",
       "      <td>1833</td>\n",
       "      <td>1</td>\n",
       "      <td>Steak Burrito</td>\n",
       "      <td>[Fresh Tomato Salsa, [Rice, Black Beans, Sour ...</td>\n",
       "      <td>$11.75</td>\n",
       "    </tr>\n",
       "    <tr>\n",
       "      <th>4618</th>\n",
       "      <td>1833</td>\n",
       "      <td>1</td>\n",
       "      <td>Steak Burrito</td>\n",
       "      <td>[Fresh Tomato Salsa, [Rice, Sour Cream, Cheese...</td>\n",
       "      <td>$11.75</td>\n",
       "    </tr>\n",
       "    <tr>\n",
       "      <th>4619</th>\n",
       "      <td>1834</td>\n",
       "      <td>1</td>\n",
       "      <td>Chicken Salad Bowl</td>\n",
       "      <td>[Fresh Tomato Salsa, [Fajita Vegetables, Pinto...</td>\n",
       "      <td>$11.25</td>\n",
       "    </tr>\n",
       "    <tr>\n",
       "      <th>4620</th>\n",
       "      <td>1834</td>\n",
       "      <td>1</td>\n",
       "      <td>Chicken Salad Bowl</td>\n",
       "      <td>[Fresh Tomato Salsa, [Fajita Vegetables, Lettu...</td>\n",
       "      <td>$8.75</td>\n",
       "    </tr>\n",
       "    <tr>\n",
       "      <th>4621</th>\n",
       "      <td>1834</td>\n",
       "      <td>1</td>\n",
       "      <td>Chicken Salad Bowl</td>\n",
       "      <td>[Fresh Tomato Salsa, [Fajita Vegetables, Pinto...</td>\n",
       "      <td>$8.75</td>\n",
       "    </tr>\n",
       "  </tbody>\n",
       "</table>\n",
       "<p>4622 rows × 5 columns</p>\n",
       "</div>"
      ],
      "text/plain": [
       "      order_id  quantity                              item_name  \\\n",
       "0            1         1           Chips and Fresh Tomato Salsa   \n",
       "1            1         1                                   Izze   \n",
       "2            1         1                       Nantucket Nectar   \n",
       "3            1         1  Chips and Tomatillo-Green Chili Salsa   \n",
       "4            2         2                           Chicken Bowl   \n",
       "...        ...       ...                                    ...   \n",
       "4617      1833         1                          Steak Burrito   \n",
       "4618      1833         1                          Steak Burrito   \n",
       "4619      1834         1                     Chicken Salad Bowl   \n",
       "4620      1834         1                     Chicken Salad Bowl   \n",
       "4621      1834         1                     Chicken Salad Bowl   \n",
       "\n",
       "                                     choice_description item_price  \n",
       "0                                                   NaN     $2.39   \n",
       "1                                          [Clementine]     $3.39   \n",
       "2                                               [Apple]     $3.39   \n",
       "3                                                   NaN     $2.39   \n",
       "4     [Tomatillo-Red Chili Salsa (Hot), [Black Beans...    $16.98   \n",
       "...                                                 ...        ...  \n",
       "4617  [Fresh Tomato Salsa, [Rice, Black Beans, Sour ...    $11.75   \n",
       "4618  [Fresh Tomato Salsa, [Rice, Sour Cream, Cheese...    $11.75   \n",
       "4619  [Fresh Tomato Salsa, [Fajita Vegetables, Pinto...    $11.25   \n",
       "4620  [Fresh Tomato Salsa, [Fajita Vegetables, Lettu...     $8.75   \n",
       "4621  [Fresh Tomato Salsa, [Fajita Vegetables, Pinto...     $8.75   \n",
       "\n",
       "[4622 rows x 5 columns]"
      ]
     },
     "execution_count": 21,
     "metadata": {},
     "output_type": "execute_result"
    }
   ],
   "source": [
    "import pandas as pd\n",
    "\n",
    "chipo_df=pd.read_csv(r\"https://raw.githubusercontent.com/justmarkham/DAT8/master/data/chipotle.tsv\",sep=\"\\t\")\n",
    "chipo_df"
   ]
  }
 ],
 "metadata": {
  "kernelspec": {
   "display_name": "Python 3 (ipykernel)",
   "language": "python",
   "name": "python3"
  },
  "language_info": {
   "codemirror_mode": {
    "name": "ipython",
    "version": 3
   },
   "file_extension": ".py",
   "mimetype": "text/x-python",
   "name": "python",
   "nbconvert_exporter": "python",
   "pygments_lexer": "ipython3",
   "version": "3.11.5"
  }
 },
 "nbformat": 4,
 "nbformat_minor": 5
}
